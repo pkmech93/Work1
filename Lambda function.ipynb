{
 "cells": [
  {
   "cell_type": "code",
   "execution_count": 1,
   "id": "f1aec068-cc4b-4feb-9565-d4eb171e737a",
   "metadata": {},
   "outputs": [],
   "source": [
    "n= 3\n",
    "p= 2"
   ]
  },
  {
   "cell_type": "code",
   "execution_count": 5,
   "id": "2b547905-ed17-4ad6-b284-26b8c1629f25",
   "metadata": {},
   "outputs": [],
   "source": [
    "def test(n,p):\n",
    "    return n**p"
   ]
  },
  {
   "cell_type": "code",
   "execution_count": 6,
   "id": "28f226db-b5b6-4451-b69d-19ec3b178cb6",
   "metadata": {},
   "outputs": [
    {
     "data": {
      "text/plain": [
       "9"
      ]
     },
     "execution_count": 6,
     "metadata": {},
     "output_type": "execute_result"
    }
   ],
   "source": [
    "test(3,2)"
   ]
  },
  {
   "cell_type": "code",
   "execution_count": 7,
   "id": "2f899cd7-60f0-4498-9b78-17d1464e4efb",
   "metadata": {},
   "outputs": [],
   "source": [
    "a=lambda n,p : n**p"
   ]
  },
  {
   "cell_type": "code",
   "execution_count": 8,
   "id": "bd2c8732-de22-49aa-a038-0011dc3a9b90",
   "metadata": {},
   "outputs": [
    {
     "data": {
      "text/plain": [
       "9"
      ]
     },
     "execution_count": 8,
     "metadata": {},
     "output_type": "execute_result"
    }
   ],
   "source": [
    "a(3,2)"
   ]
  },
  {
   "cell_type": "code",
   "execution_count": 10,
   "id": "7c8f452e-634c-44a8-8431-3a5febbf0e4a",
   "metadata": {},
   "outputs": [],
   "source": [
    "sub = lambda x, y : x-y"
   ]
  },
  {
   "cell_type": "code",
   "execution_count": 11,
   "id": "228b6d7c-1f82-4379-83cd-a41cee3db082",
   "metadata": {},
   "outputs": [
    {
     "data": {
      "text/plain": [
       "4"
      ]
     },
     "execution_count": 11,
     "metadata": {},
     "output_type": "execute_result"
    }
   ],
   "source": [
    "sub(7,3)"
   ]
  },
  {
   "cell_type": "code",
   "execution_count": 12,
   "id": "a07f668f-5ca7-4323-b41b-b35aa231b815",
   "metadata": {},
   "outputs": [
    {
     "data": {
      "text/plain": [
       "function"
      ]
     },
     "execution_count": 12,
     "metadata": {},
     "output_type": "execute_result"
    }
   ],
   "source": [
    "type(sub)"
   ]
  },
  {
   "cell_type": "code",
   "execution_count": 13,
   "id": "e25feb47-e735-406b-be8e-168a835eafd7",
   "metadata": {},
   "outputs": [],
   "source": [
    "c_to_f = lambda c : (9/5)*c + 32"
   ]
  },
  {
   "cell_type": "code",
   "execution_count": 15,
   "id": "af468f92-078d-4749-bd2b-6e8a83d0b382",
   "metadata": {},
   "outputs": [
    {
     "data": {
      "text/plain": [
       "41.0"
      ]
     },
     "execution_count": 15,
     "metadata": {},
     "output_type": "execute_result"
    }
   ],
   "source": [
    "c_to_f(5)"
   ]
  },
  {
   "cell_type": "code",
   "execution_count": 22,
   "id": "f0ccc09d-6968-4d44-9516-a2d04f313057",
   "metadata": {},
   "outputs": [],
   "source": [
    "finding_max = lambda x, y : x if x > y else y"
   ]
  },
  {
   "cell_type": "code",
   "execution_count": 23,
   "id": "e34d4aec-4d17-430d-8905-a5aed27610b8",
   "metadata": {},
   "outputs": [
    {
     "data": {
      "text/plain": [
       "59"
      ]
     },
     "execution_count": 23,
     "metadata": {},
     "output_type": "execute_result"
    }
   ],
   "source": [
    "finding_max(59,55)"
   ]
  },
  {
   "cell_type": "code",
   "execution_count": 25,
   "id": "3037816a-3fa1-4bb3-8734-5ec6ca07369c",
   "metadata": {},
   "outputs": [],
   "source": [
    "c = \"pwskills\""
   ]
  },
  {
   "cell_type": "code",
   "execution_count": 26,
   "id": "9d64f44e-7c5e-432b-a1ef-0cb77abe8ffd",
   "metadata": {},
   "outputs": [],
   "source": [
    "fin_len = lambda c : len(c)"
   ]
  },
  {
   "cell_type": "code",
   "execution_count": 28,
   "id": "193f17d2-732b-4a82-83df-1953b4ed6414",
   "metadata": {},
   "outputs": [
    {
     "data": {
      "text/plain": [
       "8"
      ]
     },
     "execution_count": 28,
     "metadata": {},
     "output_type": "execute_result"
    }
   ],
   "source": [
    "fin_len(c)"
   ]
  },
  {
   "cell_type": "code",
   "execution_count": 37,
   "id": "34d6ad7c-ad9b-440d-ab3f-9f9d4baf3385",
   "metadata": {},
   "outputs": [
    {
     "ename": "SyntaxError",
     "evalue": "unterminated string literal (detected at line 1) (807212513.py, line 1)",
     "output_type": "error",
     "traceback": [
      "\u001b[0;36m  Cell \u001b[0;32mIn[37], line 1\u001b[0;36m\u001b[0m\n\u001b[0;31m    [\"Which keyword is used to create a function? Create a function to return a list of odd numbers in the\u001b[0m\n\u001b[0m     ^\u001b[0m\n\u001b[0;31mSyntaxError\u001b[0m\u001b[0;31m:\u001b[0m unterminated string literal (detected at line 1)\n"
     ]
    }
   ],
   "source": [
    "[\"Which keyword is used to create a function? Create a function to return a list of odd numbers in the\n",
    "range of 1 to 25\"]"
   ]
  },
  {
   "cell_type": "code",
   "execution_count": 1,
   "id": "8753f658-abeb-4e36-b515-109828aa9ee9",
   "metadata": {},
   "outputs": [],
   "source": [
    "s=[('Sachin Tendulkar', 34357), ('Ricky Ponting', 27483), ('Jack Kallis', 25534), ('Virat Kohli', 24936)]"
   ]
  },
  {
   "cell_type": "code",
   "execution_count": 8,
   "id": "4bdf4ff2-f73b-4a4f-8281-603c2b803e6c",
   "metadata": {},
   "outputs": [
    {
     "data": {
      "text/plain": [
       "<function __main__.<lambda>(x, y)>"
      ]
     },
     "execution_count": 8,
     "metadata": {},
     "output_type": "execute_result"
    }
   ],
   "source": [
    "lambda x,y : y.int()"
   ]
  },
  {
   "cell_type": "code",
   "execution_count": null,
   "id": "0bb1c3aa-b408-47cd-83fd-2e297a05a6e4",
   "metadata": {},
   "outputs": [],
   "source": []
  }
 ],
 "metadata": {
  "kernelspec": {
   "display_name": "Python 3 (ipykernel)",
   "language": "python",
   "name": "python3"
  },
  "language_info": {
   "codemirror_mode": {
    "name": "ipython",
    "version": 3
   },
   "file_extension": ".py",
   "mimetype": "text/x-python",
   "name": "python",
   "nbconvert_exporter": "python",
   "pygments_lexer": "ipython3",
   "version": "3.10.8"
  }
 },
 "nbformat": 4,
 "nbformat_minor": 5
}
